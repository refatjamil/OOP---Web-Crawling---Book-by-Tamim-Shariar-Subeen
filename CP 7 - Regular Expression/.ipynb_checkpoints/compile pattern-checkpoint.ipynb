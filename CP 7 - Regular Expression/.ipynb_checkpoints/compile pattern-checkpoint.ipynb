{
 "cells": [
  {
   "cell_type": "code",
   "execution_count": 187,
   "id": "67b8a724",
   "metadata": {},
   "outputs": [],
   "source": [
    "import re"
   ]
  },
  {
   "cell_type": "code",
   "execution_count": 188,
   "id": "a88d0723",
   "metadata": {},
   "outputs": [],
   "source": [
    "s = \"Bangladesh is our homeland and Baangla is our language\""
   ]
  },
  {
   "cell_type": "code",
   "execution_count": 192,
   "id": "b5f08f30",
   "metadata": {},
   "outputs": [],
   "source": [
    "match = re.search(\"^B.+h\\w+d\",s)"
   ]
  },
  {
   "cell_type": "code",
   "execution_count": 193,
   "id": "bdd907fb",
   "metadata": {},
   "outputs": [
    {
     "data": {
      "text/plain": [
       "'Bangladesh is our homeland'"
      ]
     },
     "execution_count": 193,
     "metadata": {},
     "output_type": "execute_result"
    }
   ],
   "source": [
    "match.group()"
   ]
  },
  {
   "cell_type": "code",
   "execution_count": 194,
   "id": "17bc3631",
   "metadata": {},
   "outputs": [],
   "source": [
    "s = \"<li>Tamim</li><li>Shakib</li><li>Musfiq</li><li>Riad</>\""
   ]
  },
  {
   "cell_type": "code",
   "execution_count": 196,
   "id": "e4b177c4",
   "metadata": {},
   "outputs": [],
   "source": [
    "result = re.findall(r\"<li>(.*)</li>\",s)"
   ]
  },
  {
   "cell_type": "raw",
   "id": "3044273c",
   "metadata": {},
   "source": []
  }
 ],
 "metadata": {
  "kernelspec": {
   "display_name": "Python 3 (ipykernel)",
   "language": "python",
   "name": "python3"
  },
  "language_info": {
   "codemirror_mode": {
    "name": "ipython",
    "version": 3
   },
   "file_extension": ".py",
   "mimetype": "text/x-python",
   "name": "python",
   "nbconvert_exporter": "python",
   "pygments_lexer": "ipython3",
   "version": "3.9.13"
  }
 },
 "nbformat": 4,
 "nbformat_minor": 5
}
