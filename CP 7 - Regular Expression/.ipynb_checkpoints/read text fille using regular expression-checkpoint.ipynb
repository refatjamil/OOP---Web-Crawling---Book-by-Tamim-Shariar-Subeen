{
 "cells": [
  {
   "cell_type": "code",
   "execution_count": 40,
   "id": "255438ef",
   "metadata": {},
   "outputs": [],
   "source": [
    "with open(\"file.txt\",\"r\") as f:\n",
    "    text = f.read()"
   ]
  },
  {
   "cell_type": "code",
   "execution_count": 46,
   "id": "ac229efb",
   "metadata": {},
   "outputs": [
    {
     "data": {
      "text/plain": [
       "'Bangladesh is our country.\\nBangla is our language.\\nPython is our programming language.\\n'"
      ]
     },
     "execution_count": 46,
     "metadata": {},
     "output_type": "execute_result"
    }
   ],
   "source": [
    "text"
   ]
  },
  {
   "cell_type": "code",
   "execution_count": 47,
   "id": "7826c10e",
   "metadata": {},
   "outputs": [],
   "source": [
    "import re"
   ]
  },
  {
   "cell_type": "code",
   "execution_count": 50,
   "id": "365ed751",
   "metadata": {},
   "outputs": [],
   "source": [
    "li = re.findall(r'^.+?$',text,re.M)"
   ]
  },
  {
   "cell_type": "code",
   "execution_count": 51,
   "id": "9badce69",
   "metadata": {},
   "outputs": [
    {
     "data": {
      "text/plain": [
       "['Bangladesh is our country.',\n",
       " 'Bangla is our language.',\n",
       " 'Python is our programming language.']"
      ]
     },
     "execution_count": 51,
     "metadata": {},
     "output_type": "execute_result"
    }
   ],
   "source": [
    "li"
   ]
  },
  {
   "cell_type": "code",
   "execution_count": null,
   "id": "24fdf395",
   "metadata": {},
   "outputs": [],
   "source": [
    "re.findall(r'^.+',text,re.M)"
   ]
  }
 ],
 "metadata": {
  "kernelspec": {
   "display_name": "Python 3 (ipykernel)",
   "language": "python",
   "name": "python3"
  },
  "language_info": {
   "codemirror_mode": {
    "name": "ipython",
    "version": 3
   },
   "file_extension": ".py",
   "mimetype": "text/x-python",
   "name": "python",
   "nbconvert_exporter": "python",
   "pygments_lexer": "ipython3",
   "version": "3.9.13"
  }
 },
 "nbformat": 4,
 "nbformat_minor": 5
}
