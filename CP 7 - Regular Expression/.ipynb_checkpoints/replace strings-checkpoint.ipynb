{
 "cells": [
  {
   "cell_type": "code",
   "execution_count": 15,
   "id": "32cd925c",
   "metadata": {},
   "outputs": [],
   "source": [
    "import re"
   ]
  },
  {
   "cell_type": "code",
   "execution_count": 16,
   "id": "f9b90bd6",
   "metadata": {},
   "outputs": [],
   "source": [
    "s = \"Abcd 1234 - 33\""
   ]
  },
  {
   "cell_type": "code",
   "execution_count": 17,
   "id": "e2db392d",
   "metadata": {},
   "outputs": [],
   "source": [
    "result = re.sub(r'\\d','0',s)"
   ]
  },
  {
   "cell_type": "raw",
   "id": "6d8e3f72",
   "metadata": {},
   "source": []
  },
  {
   "cell_type": "code",
   "execution_count": 18,
   "id": "03e28165",
   "metadata": {},
   "outputs": [
    {
     "data": {
      "text/plain": [
       "'Abcd 0000 - 00'"
      ]
     },
     "execution_count": 18,
     "metadata": {},
     "output_type": "execute_result"
    }
   ],
   "source": [
    "result"
   ]
  },
  {
   "cell_type": "code",
   "execution_count": 19,
   "id": "874d43f0",
   "metadata": {},
   "outputs": [],
   "source": [
    "s = \"22/07/2017, 20/01/2017, 01/01/2018\""
   ]
  },
  {
   "cell_type": "code",
   "execution_count": 20,
   "id": "6c3133c5",
   "metadata": {},
   "outputs": [],
   "source": [
    "mew_s = re.sub(r'(\\d{2})/(\\d{2})/(\\d{4})',r'\\3-\\2-\\1',s)"
   ]
  },
  {
   "cell_type": "code",
   "execution_count": 21,
   "id": "7d4c5ea7",
   "metadata": {},
   "outputs": [
    {
     "data": {
      "text/plain": [
       "'2017-07-22, 2017-01-20, 2018-01-01'"
      ]
     },
     "execution_count": 21,
     "metadata": {},
     "output_type": "execute_result"
    }
   ],
   "source": [
    "mew_s"
   ]
  },
  {
   "cell_type": "code",
   "execution_count": 37,
   "id": "5c5ad087",
   "metadata": {},
   "outputs": [],
   "source": [
    "match = re.search(r'(\\d{2}/\\d{2}/\\d{4})',s)"
   ]
  },
  {
   "cell_type": "code",
   "execution_count": 38,
   "id": "035e193a",
   "metadata": {},
   "outputs": [
    {
     "name": "stdout",
     "output_type": "stream",
     "text": [
      "<re.Match object; span=(0, 10), match='22/07/2017'>\n"
     ]
    }
   ],
   "source": [
    "print(match)"
   ]
  },
  {
   "cell_type": "code",
   "execution_count": 43,
   "id": "f9343a99",
   "metadata": {},
   "outputs": [],
   "source": [
    "new_s = re.sub(r'(\\d{2})/(\\d{2})/(\\d{4})',r'\\g<3>-\\g<2>-\\g<1>',s)"
   ]
  },
  {
   "cell_type": "code",
   "execution_count": 44,
   "id": "5bdfd72d",
   "metadata": {},
   "outputs": [
    {
     "data": {
      "text/plain": [
       "'2017-07-22, 2017-01-20, 2018-01-01'"
      ]
     },
     "execution_count": 44,
     "metadata": {},
     "output_type": "execute_result"
    }
   ],
   "source": [
    "new_s"
   ]
  },
  {
   "cell_type": "code",
   "execution_count": null,
   "id": "671d8956",
   "metadata": {},
   "outputs": [],
   "source": []
  }
 ],
 "metadata": {
  "kernelspec": {
   "display_name": "Python 3 (ipykernel)",
   "language": "python",
   "name": "python3"
  },
  "language_info": {
   "codemirror_mode": {
    "name": "ipython",
    "version": 3
   },
   "file_extension": ".py",
   "mimetype": "text/x-python",
   "name": "python",
   "nbconvert_exporter": "python",
   "pygments_lexer": "ipython3",
   "version": "3.9.13"
  }
 },
 "nbformat": 4,
 "nbformat_minor": 5
}
