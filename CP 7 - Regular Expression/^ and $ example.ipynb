{
 "cells": [
  {
   "cell_type": "code",
   "execution_count": 3,
   "id": "5e77fbd0",
   "metadata": {},
   "outputs": [],
   "source": [
    "import re\n",
    "s = \"Bangla english bangla\""
   ]
  },
  {
   "cell_type": "code",
   "execution_count": 4,
   "id": "234a7bad",
   "metadata": {},
   "outputs": [
    {
     "data": {
      "text/plain": [
       "['Bangla']"
      ]
     },
     "execution_count": 4,
     "metadata": {},
     "output_type": "execute_result"
    }
   ],
   "source": [
    "re.findall(r'Bangla',s)"
   ]
  },
  {
   "cell_type": "code",
   "execution_count": 6,
   "id": "2d7e8794",
   "metadata": {},
   "outputs": [
    {
     "data": {
      "text/plain": [
       "[]"
      ]
     },
     "execution_count": 6,
     "metadata": {},
     "output_type": "execute_result"
    }
   ],
   "source": [
    "re.findall(r'^english',s)"
   ]
  },
  {
   "cell_type": "code",
   "execution_count": 7,
   "id": "806eb57a",
   "metadata": {},
   "outputs": [
    {
     "data": {
      "text/plain": [
       "[]"
      ]
     },
     "execution_count": 7,
     "metadata": {},
     "output_type": "execute_result"
    }
   ],
   "source": [
    "re.findall(r'Bangla$',s)"
   ]
  },
  {
   "cell_type": "code",
   "execution_count": 8,
   "id": "bb9ffb41",
   "metadata": {},
   "outputs": [
    {
     "data": {
      "text/plain": [
       "['Bangla']"
      ]
     },
     "execution_count": 8,
     "metadata": {},
     "output_type": "execute_result"
    }
   ],
   "source": [
    "re.findall(r'^Bangla',s)"
   ]
  },
  {
   "cell_type": "code",
   "execution_count": 9,
   "id": "a8f3c2f8",
   "metadata": {},
   "outputs": [
    {
     "data": {
      "text/plain": [
       "['bangla']"
      ]
     },
     "execution_count": 9,
     "metadata": {},
     "output_type": "execute_result"
    }
   ],
   "source": [
    "re.findall(r'bangla$',s)"
   ]
  },
  {
   "cell_type": "code",
   "execution_count": 10,
   "id": "e3a4e148",
   "metadata": {},
   "outputs": [
    {
     "data": {
      "text/plain": [
       "['english']"
      ]
     },
     "execution_count": 10,
     "metadata": {},
     "output_type": "execute_result"
    }
   ],
   "source": [
    "re.findall(r'english',s)"
   ]
  },
  {
   "cell_type": "code",
   "execution_count": 11,
   "id": "f131a24c",
   "metadata": {},
   "outputs": [
    {
     "data": {
      "text/plain": [
       "[]"
      ]
     },
     "execution_count": 11,
     "metadata": {},
     "output_type": "execute_result"
    }
   ],
   "source": [
    "re.findall(r'^english',s)"
   ]
  },
  {
   "cell_type": "code",
   "execution_count": 12,
   "id": "fe5ad370",
   "metadata": {},
   "outputs": [
    {
     "data": {
      "text/plain": [
       "[]"
      ]
     },
     "execution_count": 12,
     "metadata": {},
     "output_type": "execute_result"
    }
   ],
   "source": [
    "re.findall(r'english$',s)"
   ]
  },
  {
   "cell_type": "code",
   "execution_count": 13,
   "id": "16286d09",
   "metadata": {},
   "outputs": [
    {
     "data": {
      "text/plain": [
       "[]"
      ]
     },
     "execution_count": 13,
     "metadata": {},
     "output_type": "execute_result"
    }
   ],
   "source": [
    "re.findall(r'^bangla',s)"
   ]
  },
  {
   "cell_type": "code",
   "execution_count": 14,
   "id": "f9f90d71",
   "metadata": {},
   "outputs": [
    {
     "data": {
      "text/plain": [
       "['Bangla']"
      ]
     },
     "execution_count": 14,
     "metadata": {},
     "output_type": "execute_result"
    }
   ],
   "source": [
    "re.findall(r'^bangla',s,re.IGNORECASE)"
   ]
  },
  {
   "cell_type": "code",
   "execution_count": 18,
   "id": "a04aa10e",
   "metadata": {},
   "outputs": [
    {
     "data": {
      "text/plain": [
       "['Bangla']"
      ]
     },
     "execution_count": 18,
     "metadata": {},
     "output_type": "execute_result"
    }
   ],
   "source": [
    "re.findall(r'^BANGLA',s,re.I)"
   ]
  },
  {
   "cell_type": "code",
   "execution_count": null,
   "id": "01fd4bd6",
   "metadata": {},
   "outputs": [],
   "source": []
  }
 ],
 "metadata": {
  "kernelspec": {
   "display_name": "Python 3 (ipykernel)",
   "language": "python",
   "name": "python3"
  },
  "language_info": {
   "codemirror_mode": {
    "name": "ipython",
    "version": 3
   },
   "file_extension": ".py",
   "mimetype": "text/x-python",
   "name": "python",
   "nbconvert_exporter": "python",
   "pygments_lexer": "ipython3",
   "version": "3.9.13"
  }
 },
 "nbformat": 4,
 "nbformat_minor": 5
}
