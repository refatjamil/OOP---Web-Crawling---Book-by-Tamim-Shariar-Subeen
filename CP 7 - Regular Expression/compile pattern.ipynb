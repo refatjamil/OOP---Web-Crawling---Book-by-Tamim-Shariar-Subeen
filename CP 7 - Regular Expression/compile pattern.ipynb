{
 "cells": [
  {
   "cell_type": "code",
   "execution_count": 10,
   "id": "1d9875e3",
   "metadata": {},
   "outputs": [],
   "source": [
    "import re"
   ]
  },
  {
   "cell_type": "code",
   "execution_count": 11,
   "id": "a998dcdb",
   "metadata": {},
   "outputs": [],
   "source": [
    "s = \"Bangladesh is our homeland and Baangla is our language\""
   ]
  },
  {
   "cell_type": "code",
   "execution_count": 12,
   "id": "424f7c86",
   "metadata": {},
   "outputs": [],
   "source": [
    "match = re.search(\"^B.+h\\w+d\",s)"
   ]
  },
  {
   "cell_type": "code",
   "execution_count": 13,
   "id": "13e34856",
   "metadata": {},
   "outputs": [
    {
     "data": {
      "text/plain": [
       "'Bangladesh is our homeland'"
      ]
     },
     "execution_count": 13,
     "metadata": {},
     "output_type": "execute_result"
    }
   ],
   "source": [
    "match.group()"
   ]
  },
  {
   "cell_type": "code",
   "execution_count": 14,
   "id": "6eac23f5",
   "metadata": {},
   "outputs": [],
   "source": [
    "s = \"<li>Tamim</li><li>Shakib</li><li>Musfiq</li><li>Riad</>\""
   ]
  },
  {
   "cell_type": "code",
   "execution_count": 15,
   "id": "590e7f53",
   "metadata": {},
   "outputs": [],
   "source": [
    "result = re.findall(r'<li>(.*?)</li>',s)"
   ]
  },
  {
   "cell_type": "code",
   "execution_count": 16,
   "id": "84a420ee",
   "metadata": {},
   "outputs": [
    {
     "data": {
      "text/plain": [
       "['Tamim', 'Shakib', 'Musfiq']"
      ]
     },
     "execution_count": 16,
     "metadata": {},
     "output_type": "execute_result"
    }
   ],
   "source": [
    "result"
   ]
  },
  {
   "cell_type": "code",
   "execution_count": null,
   "id": "0e570180",
   "metadata": {},
   "outputs": [],
   "source": []
  },
  {
   "cell_type": "code",
   "execution_count": 17,
   "id": "dc6c062c",
   "metadata": {},
   "outputs": [],
   "source": [
    "# compile regular expression"
   ]
  },
  {
   "cell_type": "code",
   "execution_count": 18,
   "id": "c3ff22d1",
   "metadata": {},
   "outputs": [],
   "source": [
    "text = \"this is line 1. Date is 2017/06/01. And there is another date : 2017-17-01. The third and final date is 2017/08/30.\""
   ]
  },
  {
   "cell_type": "code",
   "execution_count": 19,
   "id": "eeca5bda",
   "metadata": {},
   "outputs": [],
   "source": [
    "pat = re.compile(r'(\\d{4})[-/](\\d{2})[-/](\\d{2})')"
   ]
  },
  {
   "cell_type": "code",
   "execution_count": 20,
   "id": "807b3332",
   "metadata": {},
   "outputs": [
    {
     "data": {
      "text/plain": [
       "re.compile(r'(\\d{4})[-/](\\d{2})[-/](\\d{2})', re.UNICODE)"
      ]
     },
     "execution_count": 20,
     "metadata": {},
     "output_type": "execute_result"
    }
   ],
   "source": [
    "pat"
   ]
  },
  {
   "cell_type": "code",
   "execution_count": 21,
   "id": "32c94f9e",
   "metadata": {},
   "outputs": [
    {
     "data": {
      "text/plain": [
       "re.Pattern"
      ]
     },
     "execution_count": 21,
     "metadata": {},
     "output_type": "execute_result"
    }
   ],
   "source": [
    "type(pat)"
   ]
  },
  {
   "cell_type": "code",
   "execution_count": 22,
   "id": "8ab9096d",
   "metadata": {},
   "outputs": [],
   "source": [
    "result = pat.findall(text)"
   ]
  },
  {
   "cell_type": "code",
   "execution_count": 23,
   "id": "c6c1e3b9",
   "metadata": {},
   "outputs": [
    {
     "data": {
      "text/plain": [
       "[('2017', '06', '01'), ('2017', '17', '01'), ('2017', '08', '30')]"
      ]
     },
     "execution_count": 23,
     "metadata": {},
     "output_type": "execute_result"
    }
   ],
   "source": [
    "result"
   ]
  },
  {
   "cell_type": "code",
   "execution_count": 24,
   "id": "331adddc",
   "metadata": {},
   "outputs": [
    {
     "data": {
      "text/plain": [
       "['__class__',\n",
       " '__class_getitem__',\n",
       " '__copy__',\n",
       " '__deepcopy__',\n",
       " '__delattr__',\n",
       " '__dir__',\n",
       " '__doc__',\n",
       " '__eq__',\n",
       " '__format__',\n",
       " '__ge__',\n",
       " '__getattribute__',\n",
       " '__gt__',\n",
       " '__hash__',\n",
       " '__init__',\n",
       " '__init_subclass__',\n",
       " '__le__',\n",
       " '__lt__',\n",
       " '__ne__',\n",
       " '__new__',\n",
       " '__reduce__',\n",
       " '__reduce_ex__',\n",
       " '__repr__',\n",
       " '__setattr__',\n",
       " '__sizeof__',\n",
       " '__str__',\n",
       " '__subclasshook__',\n",
       " 'findall',\n",
       " 'finditer',\n",
       " 'flags',\n",
       " 'fullmatch',\n",
       " 'groupindex',\n",
       " 'groups',\n",
       " 'match',\n",
       " 'pattern',\n",
       " 'scanner',\n",
       " 'search',\n",
       " 'split',\n",
       " 'sub',\n",
       " 'subn']"
      ]
     },
     "execution_count": 24,
     "metadata": {},
     "output_type": "execute_result"
    }
   ],
   "source": [
    "dir(pat)"
   ]
  },
  {
   "cell_type": "code",
   "execution_count": 25,
   "id": "6c50a5a7",
   "metadata": {},
   "outputs": [],
   "source": [
    "text2 = \"NEw date : 2017/06/15\""
   ]
  },
  {
   "cell_type": "code",
   "execution_count": 26,
   "id": "f476bce5",
   "metadata": {},
   "outputs": [],
   "source": [
    "result = pat.findall(text2)"
   ]
  },
  {
   "cell_type": "code",
   "execution_count": 27,
   "id": "84441c23",
   "metadata": {},
   "outputs": [
    {
     "data": {
      "text/plain": [
       "[('2017', '06', '15')]"
      ]
     },
     "execution_count": 27,
     "metadata": {},
     "output_type": "execute_result"
    }
   ],
   "source": [
    "result"
   ]
  },
  {
   "cell_type": "code",
   "execution_count": null,
   "id": "51f220f2",
   "metadata": {},
   "outputs": [],
   "source": []
  }
 ],
 "metadata": {
  "kernelspec": {
   "display_name": "Python 3 (ipykernel)",
   "language": "python",
   "name": "python3"
  },
  "language_info": {
   "codemirror_mode": {
    "name": "ipython",
    "version": 3
   },
   "file_extension": ".py",
   "mimetype": "text/x-python",
   "name": "python",
   "nbconvert_exporter": "python",
   "pygments_lexer": "ipython3",
   "version": "3.9.13"
  },
  "vscode": {
   "interpreter": {
    "hash": "916dbcbb3f70747c44a77c7bcd40155683ae19c65e1c03b4aa3499c5328201f1"
   }
  }
 },
 "nbformat": 4,
 "nbformat_minor": 5
}
