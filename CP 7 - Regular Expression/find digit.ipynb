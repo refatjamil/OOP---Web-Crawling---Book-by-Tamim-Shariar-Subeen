{
 "cells": [
  {
   "cell_type": "code",
   "execution_count": 2,
   "id": "388b487b",
   "metadata": {},
   "outputs": [],
   "source": [
    "import re\n",
    "text =\"Phone number: 01711101001.\""
   ]
  },
  {
   "cell_type": "code",
   "execution_count": 3,
   "id": "abce53a5",
   "metadata": {},
   "outputs": [],
   "source": [
    "#single digit\n",
    "match = re.search('\\d',text)"
   ]
  },
  {
   "cell_type": "code",
   "execution_count": 4,
   "id": "0d7d8f80",
   "metadata": {},
   "outputs": [
    {
     "data": {
      "text/plain": [
       "'0'"
      ]
     },
     "execution_count": 4,
     "metadata": {},
     "output_type": "execute_result"
    }
   ],
   "source": [
    "match.group()"
   ]
  },
  {
   "cell_type": "code",
   "execution_count": 6,
   "id": "7def9eef",
   "metadata": {},
   "outputs": [],
   "source": [
    "# all digit\n",
    "match = re.search('\\d+',text)"
   ]
  },
  {
   "cell_type": "code",
   "execution_count": 7,
   "id": "3595924e",
   "metadata": {},
   "outputs": [
    {
     "data": {
      "text/plain": [
       "'01711101001'"
      ]
     },
     "execution_count": 7,
     "metadata": {},
     "output_type": "execute_result"
    }
   ],
   "source": [
    "match.group()"
   ]
  },
  {
   "cell_type": "code",
   "execution_count": 8,
   "id": "ff3af2c0",
   "metadata": {},
   "outputs": [],
   "source": [
    "# specific digits \n",
    "text = \"House number:5, Phone number: 01711101001.\""
   ]
  },
  {
   "cell_type": "code",
   "execution_count": 9,
   "id": "2a9a3b0d",
   "metadata": {},
   "outputs": [],
   "source": [
    "match = re.search('\\d+',text)"
   ]
  },
  {
   "cell_type": "code",
   "execution_count": 12,
   "id": "c964ffa7",
   "metadata": {},
   "outputs": [
    {
     "data": {
      "text/plain": [
       "'5'"
      ]
     },
     "execution_count": 12,
     "metadata": {},
     "output_type": "execute_result"
    }
   ],
   "source": [
    "# we needed phone number\n",
    "match.group() # but we found house number 5"
   ]
  },
  {
   "cell_type": "code",
   "execution_count": 16,
   "id": "33c7d0a9",
   "metadata": {},
   "outputs": [],
   "source": [
    "# now try another way\n",
    "match = re.search('\\d{11}', text)"
   ]
  },
  {
   "cell_type": "code",
   "execution_count": 18,
   "id": "3083dbc0",
   "metadata": {},
   "outputs": [
    {
     "data": {
      "text/plain": [
       "'01711101001'"
      ]
     },
     "execution_count": 18,
     "metadata": {},
     "output_type": "execute_result"
    }
   ],
   "source": [
    "match.group() # now that's okh "
   ]
  },
  {
   "cell_type": "code",
   "execution_count": 19,
   "id": "3416d919",
   "metadata": {},
   "outputs": [],
   "source": [
    "text = \"housse number: 5, phone number: 017 11101001.\""
   ]
  },
  {
   "cell_type": "code",
   "execution_count": 20,
   "id": "d46019e5",
   "metadata": {},
   "outputs": [],
   "source": [
    "match = re.search('\\d{11}',text) # once again find phone number"
   ]
  },
  {
   "cell_type": "code",
   "execution_count": 21,
   "id": "b035e73d",
   "metadata": {},
   "outputs": [
    {
     "ename": "AttributeError",
     "evalue": "'NoneType' object has no attribute 'group'",
     "output_type": "error",
     "traceback": [
      "\u001b[0;31m---------------------------------------------------------------------------\u001b[0m",
      "\u001b[0;31mAttributeError\u001b[0m                            Traceback (most recent call last)",
      "\u001b[0;32m/tmp/ipykernel_4658/2596684604.py\u001b[0m in \u001b[0;36m<module>\u001b[0;34m\u001b[0m\n\u001b[0;32m----> 1\u001b[0;31m \u001b[0mmatch\u001b[0m\u001b[0;34m.\u001b[0m\u001b[0mgroup\u001b[0m\u001b[0;34m(\u001b[0m\u001b[0;34m)\u001b[0m\u001b[0;34m\u001b[0m\u001b[0;34m\u001b[0m\u001b[0m\n\u001b[0m",
      "\u001b[0;31mAttributeError\u001b[0m: 'NoneType' object has no attribute 'group'"
     ]
    }
   ],
   "source": [
    "match.group() # return error"
   ]
  },
  {
   "cell_type": "code",
   "execution_count": 22,
   "id": "ffba6234",
   "metadata": {},
   "outputs": [
    {
     "name": "stdout",
     "output_type": "stream",
     "text": [
      "None\n"
     ]
    }
   ],
   "source": [
    "print(match) # method not work and return None"
   ]
  },
  {
   "cell_type": "code",
   "execution_count": 25,
   "id": "91f4f973",
   "metadata": {},
   "outputs": [],
   "source": [
    "match = re.search('\\d{3}\\s\\d{8}',text) # s meaning a single whitespace"
   ]
  },
  {
   "cell_type": "code",
   "execution_count": 26,
   "id": "0a7258c9",
   "metadata": {},
   "outputs": [
    {
     "data": {
      "text/plain": [
       "'017 11101001'"
      ]
     },
     "execution_count": 26,
     "metadata": {},
     "output_type": "execute_result"
    }
   ],
   "source": [
    "match.group() # and it's work"
   ]
  },
  {
   "cell_type": "code",
   "execution_count": 27,
   "id": "88356263",
   "metadata": {},
   "outputs": [],
   "source": [
    "text = \"housse number: 5, phone number: 017    11101001.\""
   ]
  },
  {
   "cell_type": "code",
   "execution_count": 28,
   "id": "db0b0d4f",
   "metadata": {},
   "outputs": [],
   "source": [
    "match = re.search('\\d{3}\\s\\d{8}',text) "
   ]
  },
  {
   "cell_type": "code",
   "execution_count": 29,
   "id": "711b5e43",
   "metadata": {},
   "outputs": [
    {
     "ename": "AttributeError",
     "evalue": "'NoneType' object has no attribute 'group'",
     "output_type": "error",
     "traceback": [
      "\u001b[0;31m---------------------------------------------------------------------------\u001b[0m",
      "\u001b[0;31mAttributeError\u001b[0m                            Traceback (most recent call last)",
      "\u001b[0;32m/tmp/ipykernel_4658/3423875972.py\u001b[0m in \u001b[0;36m<module>\u001b[0;34m\u001b[0m\n\u001b[0;32m----> 1\u001b[0;31m \u001b[0mmatch\u001b[0m\u001b[0;34m.\u001b[0m\u001b[0mgroup\u001b[0m\u001b[0;34m(\u001b[0m\u001b[0;34m)\u001b[0m\u001b[0;34m\u001b[0m\u001b[0;34m\u001b[0m\u001b[0m\n\u001b[0m",
      "\u001b[0;31mAttributeError\u001b[0m: 'NoneType' object has no attribute 'group'"
     ]
    }
   ],
   "source": [
    "match.group() # this time method dosen't work bcoz too many whitespace between 017 and 11101001"
   ]
  },
  {
   "cell_type": "code",
   "execution_count": 38,
   "id": "939318fa",
   "metadata": {},
   "outputs": [],
   "source": [
    "match = re.search('\\d{3}\\s*\\d{8}',text) # now we using  * for too many whitespace "
   ]
  },
  {
   "cell_type": "code",
   "execution_count": 39,
   "id": "55b240b9",
   "metadata": {},
   "outputs": [
    {
     "data": {
      "text/plain": [
       "'01711101001'"
      ]
     },
     "execution_count": 39,
     "metadata": {},
     "output_type": "execute_result"
    }
   ],
   "source": [
    "match.group()"
   ]
  },
  {
   "cell_type": "code",
   "execution_count": 40,
   "id": "bcdf4728",
   "metadata": {},
   "outputs": [],
   "source": [
    "# Yes Work!"
   ]
  },
  {
   "cell_type": "code",
   "execution_count": null,
   "id": "590a816e",
   "metadata": {},
   "outputs": [],
   "source": []
  },
  {
   "cell_type": "code",
   "execution_count": 41,
   "id": "51d0ffbb",
   "metadata": {},
   "outputs": [],
   "source": [
    "text = \"housse number: 5, phone number: 01711101001.\""
   ]
  },
  {
   "cell_type": "code",
   "execution_count": 36,
   "id": "fc10b1fc",
   "metadata": {},
   "outputs": [],
   "source": [
    "match = re.search('\\d{3}\\s*\\d{8}',text) #  * work for zero whitespace Or too many whitespace  "
   ]
  },
  {
   "cell_type": "code",
   "execution_count": 37,
   "id": "c5627c20",
   "metadata": {},
   "outputs": [
    {
     "data": {
      "text/plain": [
       "'01711101001'"
      ]
     },
     "execution_count": 37,
     "metadata": {},
     "output_type": "execute_result"
    }
   ],
   "source": [
    "match.group()"
   ]
  },
  {
   "cell_type": "markdown",
   "id": "976acd3d",
   "metadata": {},
   "source": [
    "# # Find multiple phone number"
   ]
  },
  {
   "cell_type": "code",
   "execution_count": 50,
   "id": "19b96a73",
   "metadata": {},
   "outputs": [],
   "source": [
    "text = \"multiplle phone number: 01711111111, 01833424532, 01524545324, 01643564324, 010000000000, 00000000000, 123-123\""
   ]
  },
  {
   "cell_type": "code",
   "execution_count": 51,
   "id": "a9ca1f90",
   "metadata": {},
   "outputs": [],
   "source": [
    "match = re.findall(r'\\d{3}\\s*\\d{8}',text)"
   ]
  },
  {
   "cell_type": "code",
   "execution_count": 52,
   "id": "0552a2da",
   "metadata": {},
   "outputs": [
    {
     "data": {
      "text/plain": [
       "['01711111111',\n",
       " '01833424532',\n",
       " '01524545324',\n",
       " '01643564324',\n",
       " '01000000000',\n",
       " '00000000000']"
      ]
     },
     "execution_count": 52,
     "metadata": {},
     "output_type": "execute_result"
    }
   ],
   "source": [
    "match"
   ]
  },
  {
   "cell_type": "code",
   "execution_count": 73,
   "id": "d96bc087",
   "metadata": {},
   "outputs": [],
   "source": [
    "match = re.findall(r'01[56789]\\s*\\d{8}',text)"
   ]
  },
  {
   "cell_type": "code",
   "execution_count": 74,
   "id": "b6553f31",
   "metadata": {},
   "outputs": [
    {
     "data": {
      "text/plain": [
       "['01711111111', '01833424532', '01524545324', '01643564324']"
      ]
     },
     "execution_count": 74,
     "metadata": {},
     "output_type": "execute_result"
    }
   ],
   "source": [
    "match"
   ]
  },
  {
   "cell_type": "code",
   "execution_count": null,
   "id": "d353a2b7",
   "metadata": {},
   "outputs": [],
   "source": []
  }
 ],
 "metadata": {
  "kernelspec": {
   "display_name": "Python 3 (ipykernel)",
   "language": "python",
   "name": "python3"
  },
  "language_info": {
   "codemirror_mode": {
    "name": "ipython",
    "version": 3
   },
   "file_extension": ".py",
   "mimetype": "text/x-python",
   "name": "python",
   "nbconvert_exporter": "python",
   "pygments_lexer": "ipython3",
   "version": "3.9.13"
  }
 },
 "nbformat": 4,
 "nbformat_minor": 5
}
