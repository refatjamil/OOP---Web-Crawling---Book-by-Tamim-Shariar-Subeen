{
 "cells": [
  {
   "cell_type": "code",
   "execution_count": 1,
   "id": "c1c92e08",
   "metadata": {},
   "outputs": [],
   "source": [
    "s = \"Afganistan, America, Bangladesh, Canada, Denmark, England, Greenland, Iceland, Netherland, New zealand, Sweden, Swizerlands\""
   ]
  },
  {
   "cell_type": "code",
   "execution_count": 3,
   "id": "45540f76",
   "metadata": {},
   "outputs": [],
   "source": [
    "countries = s.split(\",\")"
   ]
  },
  {
   "cell_type": "code",
   "execution_count": 4,
   "id": "07a13638",
   "metadata": {},
   "outputs": [
    {
     "data": {
      "text/plain": [
       "['Afganistan',\n",
       " ' America',\n",
       " ' Bangladesh',\n",
       " ' Canada',\n",
       " ' Denmark',\n",
       " ' England',\n",
       " ' Greenland',\n",
       " ' Iceland',\n",
       " ' Netherland',\n",
       " ' New zealand',\n",
       " ' Sweden',\n",
       " ' Swizerlands']"
      ]
     },
     "execution_count": 4,
     "metadata": {},
     "output_type": "execute_result"
    }
   ],
   "source": [
    "countries"
   ]
  },
  {
   "cell_type": "code",
   "execution_count": 9,
   "id": "dd06a62c",
   "metadata": {},
   "outputs": [],
   "source": [
    "li = [item for item in countries if item.endswith(\"land\") or item.endswith(\"lands\")]"
   ]
  },
  {
   "cell_type": "code",
   "execution_count": 10,
   "id": "d54b575f",
   "metadata": {},
   "outputs": [
    {
     "data": {
      "text/plain": [
       "[' England',\n",
       " ' Greenland',\n",
       " ' Iceland',\n",
       " ' Netherland',\n",
       " ' New zealand',\n",
       " ' Swizerlands']"
      ]
     },
     "execution_count": 10,
     "metadata": {},
     "output_type": "execute_result"
    }
   ],
   "source": [
    "li"
   ]
  },
  {
   "cell_type": "code",
   "execution_count": null,
   "id": "25810f6d",
   "metadata": {},
   "outputs": [],
   "source": []
  }
 ],
 "metadata": {
  "kernelspec": {
   "display_name": "Python 3 (ipykernel)",
   "language": "python",
   "name": "python3"
  },
  "language_info": {
   "codemirror_mode": {
    "name": "ipython",
    "version": 3
   },
   "file_extension": ".py",
   "mimetype": "text/x-python",
   "name": "python",
   "nbconvert_exporter": "python",
   "pygments_lexer": "ipython3",
   "version": "3.9.13"
  }
 },
 "nbformat": 4,
 "nbformat_minor": 5
}
