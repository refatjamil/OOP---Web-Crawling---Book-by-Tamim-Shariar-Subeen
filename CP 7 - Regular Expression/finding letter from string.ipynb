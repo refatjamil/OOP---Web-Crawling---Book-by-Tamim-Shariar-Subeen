{
 "cells": [
  {
   "cell_type": "code",
   "execution_count": 1,
   "id": "b4bd28d9",
   "metadata": {},
   "outputs": [],
   "source": [
    "import re"
   ]
  },
  {
   "cell_type": "code",
   "execution_count": 8,
   "id": "ef1b6d4a",
   "metadata": {},
   "outputs": [],
   "source": [
    "s = \"Bangladesh is our homeland\""
   ]
  },
  {
   "cell_type": "code",
   "execution_count": 9,
   "id": "a014040a",
   "metadata": {},
   "outputs": [],
   "source": [
    "match = re.search('o\\w\\w',s)"
   ]
  },
  {
   "cell_type": "code",
   "execution_count": 10,
   "id": "ae195637",
   "metadata": {},
   "outputs": [
    {
     "data": {
      "text/plain": [
       "<re.Match object; span=(14, 17), match='our'>"
      ]
     },
     "execution_count": 10,
     "metadata": {},
     "output_type": "execute_result"
    }
   ],
   "source": [
    "match"
   ]
  },
  {
   "cell_type": "code",
   "execution_count": 11,
   "id": "203a4002",
   "metadata": {},
   "outputs": [
    {
     "data": {
      "text/plain": [
       "'our'"
      ]
     },
     "execution_count": 11,
     "metadata": {},
     "output_type": "execute_result"
    }
   ],
   "source": [
    "match.group()"
   ]
  },
  {
   "cell_type": "code",
   "execution_count": 14,
   "id": "8d38b0cb",
   "metadata": {},
   "outputs": [],
   "source": [
    "match = re.search('i\\w\\w',s)"
   ]
  },
  {
   "cell_type": "code",
   "execution_count": 15,
   "id": "ed5847b5",
   "metadata": {
    "scrolled": true
   },
   "outputs": [
    {
     "ename": "AttributeError",
     "evalue": "'NoneType' object has no attribute 'group'",
     "output_type": "error",
     "traceback": [
      "\u001b[0;31m---------------------------------------------------------------------------\u001b[0m",
      "\u001b[0;31mAttributeError\u001b[0m                            Traceback (most recent call last)",
      "\u001b[0;32m/tmp/ipykernel_6519/2596684604.py\u001b[0m in \u001b[0;36m<module>\u001b[0;34m\u001b[0m\n\u001b[0;32m----> 1\u001b[0;31m \u001b[0mmatch\u001b[0m\u001b[0;34m.\u001b[0m\u001b[0mgroup\u001b[0m\u001b[0;34m(\u001b[0m\u001b[0;34m)\u001b[0m\u001b[0;34m\u001b[0m\u001b[0;34m\u001b[0m\u001b[0m\n\u001b[0m",
      "\u001b[0;31mAttributeError\u001b[0m: 'NoneType' object has no attribute 'group'"
     ]
    }
   ],
   "source": [
    "match.group()"
   ]
  },
  {
   "cell_type": "code",
   "execution_count": 33,
   "id": "eaa4d1f2",
   "metadata": {},
   "outputs": [],
   "source": [
    "# using \\w+ :find one or more letter in a singel word"
   ]
  },
  {
   "cell_type": "code",
   "execution_count": 29,
   "id": "9e87f4fa",
   "metadata": {},
   "outputs": [],
   "source": [
    "s = \"Bangladesh is our homeland\""
   ]
  },
  {
   "cell_type": "code",
   "execution_count": 30,
   "id": "fc2cebed",
   "metadata": {},
   "outputs": [],
   "source": [
    "match = re.search('B\\w+h',s)"
   ]
  },
  {
   "cell_type": "code",
   "execution_count": 31,
   "id": "e6492f10",
   "metadata": {},
   "outputs": [
    {
     "data": {
      "text/plain": [
       "'Bangladesh'"
      ]
     },
     "execution_count": 31,
     "metadata": {},
     "output_type": "execute_result"
    }
   ],
   "source": [
    "match.group()"
   ]
  },
  {
   "cell_type": "code",
   "execution_count": 36,
   "id": "2519f5af",
   "metadata": {},
   "outputs": [],
   "source": [
    "# s এর ভিতর একেবারে শেষে h পর্যন্ত থেমেছে"
   ]
  },
  {
   "cell_type": "code",
   "execution_count": 34,
   "id": "bcb9f064",
   "metadata": {},
   "outputs": [],
   "source": [
    "match = re.search('B.+h',s)"
   ]
  },
  {
   "cell_type": "code",
   "execution_count": 35,
   "id": "b94a635c",
   "metadata": {},
   "outputs": [
    {
     "data": {
      "text/plain": [
       "'Bangladesh is our h'"
      ]
     },
     "execution_count": 35,
     "metadata": {},
     "output_type": "execute_result"
    }
   ],
   "source": [
    "match.group()"
   ]
  },
  {
   "cell_type": "code",
   "execution_count": 37,
   "id": "4b11d316",
   "metadata": {},
   "outputs": [],
   "source": [
    "# প্রথম h পাওয়ার পর থেমে যাবে।"
   ]
  },
  {
   "cell_type": "code",
   "execution_count": 38,
   "id": "c923d1f1",
   "metadata": {},
   "outputs": [],
   "source": [
    "match = re.search('B.+?h',s)"
   ]
  },
  {
   "cell_type": "code",
   "execution_count": 39,
   "id": "1a86d743",
   "metadata": {
    "scrolled": true
   },
   "outputs": [
    {
     "data": {
      "text/plain": [
       "'Bangladesh'"
      ]
     },
     "execution_count": 39,
     "metadata": {},
     "output_type": "execute_result"
    }
   ],
   "source": [
    "match.group()"
   ]
  },
  {
   "cell_type": "code",
   "execution_count": null,
   "id": "11b8f982",
   "metadata": {},
   "outputs": [],
   "source": []
  },
  {
   "cell_type": "code",
   "execution_count": 1,
   "id": "c5792010",
   "metadata": {},
   "outputs": [],
   "source": [
    "# Exampale"
   ]
  },
  {
   "cell_type": "code",
   "execution_count": null,
   "id": "4070919a",
   "metadata": {},
   "outputs": [],
   "source": []
  }
 ],
 "metadata": {
  "kernelspec": {
   "display_name": "Python 3 (ipykernel)",
   "language": "python",
   "name": "python3"
  },
  "language_info": {
   "codemirror_mode": {
    "name": "ipython",
    "version": 3
   },
   "file_extension": ".py",
   "mimetype": "text/x-python",
   "name": "python",
   "nbconvert_exporter": "python",
   "pygments_lexer": "ipython3",
   "version": "3.9.13"
  }
 },
 "nbformat": 4,
 "nbformat_minor": 5
}
