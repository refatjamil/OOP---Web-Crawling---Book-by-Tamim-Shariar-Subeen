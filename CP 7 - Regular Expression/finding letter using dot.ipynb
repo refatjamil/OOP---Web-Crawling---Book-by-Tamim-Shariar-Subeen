{
 "cells": [
  {
   "cell_type": "code",
   "execution_count": 3,
   "id": "f8b2bdc8",
   "metadata": {},
   "outputs": [],
   "source": [
    "import re"
   ]
  },
  {
   "cell_type": "code",
   "execution_count": 4,
   "id": "af468072",
   "metadata": {},
   "outputs": [],
   "source": [
    "s = \"Bangladesh\""
   ]
  },
  {
   "cell_type": "code",
   "execution_count": 5,
   "id": "a902d54e",
   "metadata": {},
   "outputs": [],
   "source": [
    "match = re.search('.',s)"
   ]
  },
  {
   "cell_type": "code",
   "execution_count": 6,
   "id": "3e5e386e",
   "metadata": {},
   "outputs": [
    {
     "data": {
      "text/plain": [
       "'B'"
      ]
     },
     "execution_count": 6,
     "metadata": {},
     "output_type": "execute_result"
    }
   ],
   "source": [
    "match.group()"
   ]
  },
  {
   "cell_type": "code",
   "execution_count": 7,
   "id": "3e1d97ec",
   "metadata": {},
   "outputs": [],
   "source": [
    "match = re.search('B.n',s)"
   ]
  },
  {
   "cell_type": "code",
   "execution_count": 8,
   "id": "cd39a228",
   "metadata": {},
   "outputs": [
    {
     "data": {
      "text/plain": [
       "'Ban'"
      ]
     },
     "execution_count": 8,
     "metadata": {},
     "output_type": "execute_result"
    }
   ],
   "source": [
    "match.group()"
   ]
  },
  {
   "cell_type": "code",
   "execution_count": 11,
   "id": "6cf317ff",
   "metadata": {},
   "outputs": [],
   "source": [
    "match = re.search('B.n...',s)"
   ]
  },
  {
   "cell_type": "code",
   "execution_count": 12,
   "id": "111dff0e",
   "metadata": {},
   "outputs": [
    {
     "data": {
      "text/plain": [
       "'Bangla'"
      ]
     },
     "execution_count": 12,
     "metadata": {},
     "output_type": "execute_result"
    }
   ],
   "source": [
    "match.group()"
   ]
  },
  {
   "cell_type": "code",
   "execution_count": 13,
   "id": "5581aff3",
   "metadata": {},
   "outputs": [],
   "source": [
    "s = \"bangladesh is our homeland\""
   ]
  },
  {
   "cell_type": "code",
   "execution_count": 14,
   "id": "7c959ffc",
   "metadata": {},
   "outputs": [],
   "source": [
    "match = re.search('..............',s)"
   ]
  },
  {
   "cell_type": "code",
   "execution_count": 15,
   "id": "254b3432",
   "metadata": {},
   "outputs": [
    {
     "data": {
      "text/plain": [
       "'bangladesh is '"
      ]
     },
     "execution_count": 15,
     "metadata": {},
     "output_type": "execute_result"
    }
   ],
   "source": [
    "match.group()"
   ]
  },
  {
   "cell_type": "code",
   "execution_count": null,
   "id": "2812deca",
   "metadata": {},
   "outputs": [],
   "source": []
  }
 ],
 "metadata": {
  "kernelspec": {
   "display_name": "Python 3 (ipykernel)",
   "language": "python",
   "name": "python3"
  },
  "language_info": {
   "codemirror_mode": {
    "name": "ipython",
    "version": 3
   },
   "file_extension": ".py",
   "mimetype": "text/x-python",
   "name": "python",
   "nbconvert_exporter": "python",
   "pygments_lexer": "ipython3",
   "version": "3.9.13"
  }
 },
 "nbformat": 4,
 "nbformat_minor": 5
}
