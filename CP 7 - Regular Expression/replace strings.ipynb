{
 "cells": [
  {
   "cell_type": "code",
   "execution_count": 2,
   "id": "32cd925c",
   "metadata": {},
   "outputs": [],
   "source": [
    "import re"
   ]
  },
  {
   "cell_type": "code",
   "execution_count": 3,
   "id": "f9b90bd6",
   "metadata": {},
   "outputs": [],
   "source": [
    "s = \"Abcd 1234 - 33\""
   ]
  },
  {
   "cell_type": "code",
   "execution_count": 4,
   "id": "e2db392d",
   "metadata": {},
   "outputs": [],
   "source": [
    "result = re.sub(r'\\d','0',s)"
   ]
  },
  {
   "cell_type": "raw",
   "id": "6d8e3f72",
   "metadata": {},
   "source": []
  },
  {
   "cell_type": "code",
   "execution_count": 5,
   "id": "03e28165",
   "metadata": {},
   "outputs": [
    {
     "data": {
      "text/plain": [
       "'Abcd 0000 - 00'"
      ]
     },
     "execution_count": 5,
     "metadata": {},
     "output_type": "execute_result"
    }
   ],
   "source": [
    "result"
   ]
  },
  {
   "cell_type": "code",
   "execution_count": 6,
   "id": "874d43f0",
   "metadata": {},
   "outputs": [],
   "source": [
    "s = \"22/07/2017, 20/01/2017, 01/01/2018\""
   ]
  },
  {
   "cell_type": "code",
   "execution_count": 7,
   "id": "6c3133c5",
   "metadata": {},
   "outputs": [],
   "source": [
    "mew_s = re.sub(r'(\\d{2})/(\\d{2})/(\\d{4})',r'\\3-\\2-\\1',s)"
   ]
  },
  {
   "cell_type": "code",
   "execution_count": 8,
   "id": "7d4c5ea7",
   "metadata": {},
   "outputs": [
    {
     "data": {
      "text/plain": [
       "'2017a07-22, 2017a01-20, 2018a01-01'"
      ]
     },
     "execution_count": 8,
     "metadata": {},
     "output_type": "execute_result"
    }
   ],
   "source": [
    "mew_s"
   ]
  },
  {
   "cell_type": "code",
   "execution_count": 9,
   "id": "5c5ad087",
   "metadata": {},
   "outputs": [],
   "source": [
    "match = re.search(r'(\\d{2}/\\d{2}/\\d{4})',s)"
   ]
  },
  {
   "cell_type": "code",
   "execution_count": 38,
   "id": "035e193a",
   "metadata": {},
   "outputs": [
    {
     "name": "stdout",
     "output_type": "stream",
     "text": [
      "<re.Match object; span=(0, 10), match='22/07/2017'>\n"
     ]
    }
   ],
   "source": [
    "print(match)"
   ]
  },
  {
   "cell_type": "code",
   "execution_count": 43,
   "id": "f9343a99",
   "metadata": {},
   "outputs": [],
   "source": [
    "new_s = re.sub(r'(\\d{2})/(\\d{2})/(\\d{4})',r'\\g<3>-\\g<2>-\\g<1>',s)"
   ]
  },
  {
   "cell_type": "code",
   "execution_count": 44,
   "id": "5bdfd72d",
   "metadata": {},
   "outputs": [
    {
     "data": {
      "text/plain": [
       "'2017-07-22, 2017-01-20, 2018-01-01'"
      ]
     },
     "execution_count": 44,
     "metadata": {},
     "output_type": "execute_result"
    }
   ],
   "source": [
    "new_s"
   ]
  },
  {
   "cell_type": "code",
   "execution_count": null,
   "id": "671d8956",
   "metadata": {},
   "outputs": [],
   "source": []
  }
 ],
 "metadata": {
  "kernelspec": {
   "display_name": "Python 3.10.6 64-bit",
   "language": "python",
   "name": "python3"
  },
  "language_info": {
   "codemirror_mode": {
    "name": "ipython",
    "version": 3
   },
   "file_extension": ".py",
   "mimetype": "text/x-python",
   "name": "python",
   "nbconvert_exporter": "python",
   "pygments_lexer": "ipython3",
   "version": "3.10.6 (main, Nov 14 2022, 16:10:14) [GCC 11.3.0]"
  },
  "vscode": {
   "interpreter": {
    "hash": "916dbcbb3f70747c44a77c7bcd40155683ae19c65e1c03b4aa3499c5328201f1"
   }
  }
 },
 "nbformat": 4,
 "nbformat_minor": 5
}
